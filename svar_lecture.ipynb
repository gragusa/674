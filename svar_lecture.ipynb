{
 "metadata": {
  "language": "Julia",
  "name": "",
  "signature": "sha256:a0385fb0c8abf7095d891c9141255ccb26158b1050b43517f86f247b0973eff7"
 },
 "nbformat": 3,
 "nbformat_minor": 0,
 "worksheets": [
  {
   "cells": [
    {
     "cell_type": "heading",
     "level": 1,
     "metadata": {},
     "source": [
      "Structural models"
     ]
    },
    {
     "cell_type": "markdown",
     "metadata": {},
     "source": [
      "* When we write down a VAR model, we're describing the endogenous dynamics of the system\n",
      "    * There's no way to interpret a \"change in industrial production\"\n",
      "* Often we'll want to know the effect of...\n",
      "    * technology shocks\n",
      "    * changes to the interest rate\n",
      "    * supply and demand shocks\n",
      "    * etc.\n",
      "* With SVARs, we can trace out the effects of \"endogenous policy\"; given policy and decision rules that are in place, what are the effects of different changes?\n",
      "* This is probably less interesting than working out the effects of a change in the policy or decision rule, but requires fewer behavioral assumptions\n",
      "    * The last few weeks of the class will use DSGE models to look at that question\n",
      "    * Now assume that the residual represents economic shocks of interest $u_t$\n",
      "    * elements of $u_t$ will typically be uncorrelated (independent under normality), so $u_t \\sim (0, I)$ after normalization\n",
      "    * elements of $u_t$ will affect potentially all of the variables\n",
      "    * e.g. a positive supply shock will increase output and decrease prices (if you believe econ 102 macro)\n",
      "* Structural representation of the VAR(p) (with mean zero):\n",
      "$$A_0 y_t = \\sum_{i=1}^p A_i y_{t-i} + u_t$$\n",
      "    * Has the reduced form\n",
      "    $$y_t = \\sum_{i=1}^p A_0^{-1} A_i y_{t-i} + A_0^{-1} u_t$$\n",
      "    * If we know $A_0$, $A_1$,...,$A_p$ then we can calculate the IRFs from 1 SD shocks to the elements of $u_t$ and this has meaningful economic content.\n",
      "    * There's a problem! There are $k^2 \\times (p+1)$ unique parameters to estimate (ignoring $\\mu$)\n",
      "    * OLS on the reduced form lets us estimate\n",
      "        * $k^2 \\times p$ parameters from the regression coefficients PLUS\n",
      "        * $k \\times (k+1) / 2$ unique parameters from the VCV of the innovations\n",
      "    * We can estimate $A_0^{-1} A_1, \\dots, A_0^{-1} A_p$ and $A_0^{-1} A_0^{-1\\prime}$ but there are $k(k-1)/2$ unidentified parameters left.\n",
      "* We'll need to actually make economic assumptions (this is analagous to IV)"
     ]
    },
    {
     "cell_type": "code",
     "collapsed": false,
     "input": [],
     "language": "python",
     "metadata": {},
     "outputs": []
    }
   ],
   "metadata": {}
  }
 ]
}